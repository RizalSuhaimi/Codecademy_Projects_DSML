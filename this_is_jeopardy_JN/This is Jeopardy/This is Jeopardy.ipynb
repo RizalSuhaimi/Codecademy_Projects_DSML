{
 "cells": [
  {
   "cell_type": "markdown",
   "metadata": {},
   "source": [
    "# This is Jeopardy!"
   ]
  },
  {
   "cell_type": "markdown",
   "metadata": {},
   "source": [
    "#### Overview"
   ]
  },
  {
   "cell_type": "markdown",
   "metadata": {},
   "source": [
    "This project is slightly different than others you have encountered thus far. Instead of a step-by-step tutorial, this project contains a series of open-ended requirements which describe the project you'll be building. There are many possible ways to correctly fulfill all of these requirements, and you should expect to use the internet, Codecademy, and/or other resources when you encounter a problem that you cannot easily solve."
   ]
  },
  {
   "cell_type": "markdown",
   "metadata": {},
   "source": [
    "#### Project Goals"
   ]
  },
  {
   "cell_type": "markdown",
   "metadata": {},
   "source": [
    "You will work to write several functions that investigate a dataset of _Jeopardy!_ questions and answers. Filter the dataset for topics that you're interested in, compute the average difficulty of those questions, and train to become the next Jeopardy champion!"
   ]
  },
  {
   "cell_type": "markdown",
   "metadata": {},
   "source": [
    "## Prerequisites"
   ]
  },
  {
   "cell_type": "markdown",
   "metadata": {},
   "source": [
    "In order to complete this project, you should have completed the Pandas lessons in the <a href=\"https://www.codecademy.com/learn/paths/analyze-data-with-python\">Analyze Data with Python Skill Path</a>. You can also find those lessons in the <a href=\"https://www.codecademy.com/learn/data-processing-pandas\">Data Analysis with Pandas course</a> or the <a href=\"https://www.codecademy.com/learn/paths/data-science/\">Data Scientist Career Path</a>.\n",
    "\n",
    "Finally, the <a href=\"https://www.codecademy.com/learn/practical-data-cleaning\">Practical Data Cleaning</a> course may also be helpful."
   ]
  },
  {
   "cell_type": "markdown",
   "metadata": {},
   "source": [
    "## Project Requirements"
   ]
  },
  {
   "cell_type": "markdown",
   "metadata": {},
   "source": [
    "1. We've provided a csv file containing data about the game show _Jeopardy!_ in a file named `jeopardy.csv`. Load the data into a DataFrame and investigate its contents. Try to print out specific columns.\n",
    "\n",
    "   Note that in order to make this project as \"real-world\" as possible, we haven't modified the data at all - we're giving it to you exactly how we found it. As a result, this data isn't as \"clean\" as the datasets you normally find on Codecademy. More specifically, there's something odd about the column names. After you figure out the problem with the column names, you may want to rename them to make your life easier for the rest of the project.\n",
    "   \n",
    "   In order to display the full contents of a column, we've added this line of code for you:\n",
    "   \n",
    "   ```py\n",
    "   pd.set_option('display.max_colwidth', None)\n",
    "   ```"
   ]
  },
  {
   "cell_type": "code",
   "execution_count": 9,
   "metadata": {},
   "outputs": [
    {
     "name": "stdout",
     "output_type": "stream",
     "text": [
      "Index(['Show Number', 'Air Date', 'Round', 'Category', 'Value', 'Question',\n",
      "       'Answer'],\n",
      "      dtype='object')\n",
      "        Show Number    Air Date             Round  \\\n",
      "0              4680  2004-12-31         Jeopardy!   \n",
      "1              4680  2004-12-31         Jeopardy!   \n",
      "2              4680  2004-12-31         Jeopardy!   \n",
      "3              4680  2004-12-31         Jeopardy!   \n",
      "4              4680  2004-12-31         Jeopardy!   \n",
      "...             ...         ...               ...   \n",
      "216925         4999  2006-05-11  Double Jeopardy!   \n",
      "216926         4999  2006-05-11  Double Jeopardy!   \n",
      "216927         4999  2006-05-11  Double Jeopardy!   \n",
      "216928         4999  2006-05-11  Double Jeopardy!   \n",
      "216929         4999  2006-05-11   Final Jeopardy!   \n",
      "\n",
      "                               Category     Value  \\\n",
      "0                               HISTORY      $200   \n",
      "1       ESPN's TOP 10 ALL-TIME ATHLETES      $200   \n",
      "2           EVERYBODY TALKS ABOUT IT...      $200   \n",
      "3                      THE COMPANY LINE      $200   \n",
      "4                   EPITAPHS & TRIBUTES      $200   \n",
      "...                                 ...       ...   \n",
      "216925                   RIDDLE ME THIS     $2000   \n",
      "216926                        \"T\" BIRDS     $2000   \n",
      "216927           AUTHORS IN THEIR YOUTH     $2000   \n",
      "216928                       QUOTATIONS     $2000   \n",
      "216929                   HISTORIC NAMES  no value   \n",
      "\n",
      "                                                                                                                      Question  \\\n",
      "0                             For the last 8 years of his life, Galileo was under house arrest for espousing this man's theory   \n",
      "1                  No. 2: 1912 Olympian; football star at Carlisle Indian School; 6 MLB seasons with the Reds, Giants & Braves   \n",
      "2                                     The city of Yuma in this state has a record average of 4,055 hours of sunshine each year   \n",
      "3                                         In 1963, live on \"The Art Linkletter Show\", this company served its billionth burger   \n",
      "4                     Signer of the Dec. of Indep., framer of the Constitution of Mass., second President of the United States   \n",
      "...                                                                                                                        ...   \n",
      "216925                                              This Puccini opera turns on the solution to 3 riddles posed by the heroine   \n",
      "216926                 In North America this term is properly applied to only 4 species that are crested, including the tufted   \n",
      "216927               In Penny Lane, where this \"Hellraiser\" grew up, the barber shaves another customer--then flays him alive!   \n",
      "216928  From Ft. Sill, Okla. he made the plea, Arizona is my land, my home, my father's land, to which I now ask to... return\"   \n",
      "216929                 A silent movie title includes the last name of this 18th c. statesman & favorite of Catherine the Great   \n",
      "\n",
      "                                Answer  \n",
      "0                           Copernicus  \n",
      "1                           Jim Thorpe  \n",
      "2                              Arizona  \n",
      "3                           McDonald's  \n",
      "4                           John Adams  \n",
      "...                                ...  \n",
      "216925                        Turandot  \n",
      "216926                      a titmouse  \n",
      "216927                    Clive Barker  \n",
      "216928                        Geronimo  \n",
      "216929  Grigori Alexandrovich Potemkin  \n",
      "\n",
      "[216930 rows x 7 columns]\n"
     ]
    }
   ],
   "source": [
    "import pandas as pd\n",
    "import re\n",
    "pd.set_option('display.max_colwidth', None)\n",
    "\n",
    "jeopardy_data = pd.read_csv('jeopardy.csv')\n",
    "\n",
    "jeopardy_data.rename(columns = {' Air Date' : 'Air Date', ' Round' : 'Round', ' Category' : 'Category', ' Value' : 'Value',\n",
    "       ' Question' : 'Question', ' Answer' : 'Answer'}, inplace=True)\n",
    "\n",
    "print(jeopardy_data.columns)\n",
    "print(jeopardy_data)"
   ]
  },
  {
   "cell_type": "markdown",
   "metadata": {},
   "source": [
    "2. Write a function that filters the dataset for questions that contains all of the words in a list of words. For example, when the list `[\"King\", \"England\"]` was passed to our function, the function returned a DataFrame of 49 rows. Every row had the strings `\"King\"` and `\"England\"` somewhere in its `\" Question\"`.\n",
    "\n",
    "   Test your function by printing out the column containing the question of each row of the dataset."
   ]
  },
  {
   "cell_type": "code",
   "execution_count": 10,
   "metadata": {},
   "outputs": [
    {
     "name": "stdout",
     "output_type": "stream",
     "text": [
      "4953                                                                                                                                                                                                                                                                      Both England's King George V & FDR put their stamp of approval on this \"King of Hobbies\"\n",
      "14912                                                                                                                                                                                                                                                            This country's King Louis IV was nicknamed \"Louis From Overseas\" because he was raised in England\n",
      "21511                                                                                                                                                                                                                                                                                 this man and his son ruled England following the execution of King Charles I\n",
      "23810                                                                                                                                                                                                                                                         William the Conqueror was crowned King of England in Westminster Abbey on Christmas Day in this year\n",
      "27555                                                                                                                                                                                                                                                                           This member of the Medici family was the mother-in-law of England's King Charles I\n",
      "33294                 (Sarah of the Clue Crew delivers the clue from the Bayeux Cathedral in France.)  Despite taking an oath to assure another succession, Harold is crowned King of England; the tapestry indicated it was <a href=\"http://www.j-archive.com/media/2008-12-18_J_08.jpg\" target=\"_blank\">Stigant</a>, this archbishop, who performed the ceremony\n",
      "41148                                                                                                                                                                                                                                    This French king recognized William of Orange as William II, King of England, under the terms of 1697's Treaty of Ryswick\n",
      "41357                                                                                                                                                                                                                                                     England's King Henry VIII had 3 wives named Catherine:  Catherine Howard, Catherine of Aragon & this one\n",
      "43122                                                                                                                                                                                                                                                                                                                       The father of England's King Edward VI\n",
      "47814                                                                                                                                                                                                                                                                                                   This steak sauce was created for King George IV of England\n",
      "49994                                                                                                                                                                                                                                                                       Elizabeth I's half-brother, he reigned before her as King of England from 1547 to 1553\n",
      "51115                                                                                                                  (<a href=\"http://www.j-archive.com/media/2000-03-02_J_22.jpg\" target=\"_blank\">Alex Trebek reads from England.</a>)  In 1214 barons fed up with King John met at the abbey whose ruins we see here; the result a year later was this charter\n",
      "51565                                                                                                                                                                                                                                                 He wrote several anthems, including \"The King Shall Rejoice\", for the coronation of England's King George II\n",
      "56600                                                                                                                                                                                                                                                              This city known for its 24-hour auto race was the birthplace of England's King Henry II in 1133\n",
      "57516                                                                                                                                                                                                                                                                                         Famous (& rather insulting) adjective for England's King Ethelred II\n",
      "58949                                                                                                                                                                                                                                                                        He became King of England in 1399 after forcing his cousin Richard II from the throne\n",
      "71808                                                                                                                                                                                                                                                                                      Number of the William who was England's \"Sailor King\" from 1830 to 1837\n",
      "74235                                                                                                                                                                                                                                                                     Barons & churchmen drew up this 1215 document to reduce the power of England's King John\n",
      "77195                                                                                                                                                                                                                                                          He became King of England on June 26, 1483; just over 2 years later he was killed at Bosworth Field\n",
      "79457                                                                                                                                                                                                                                              On Christmas Day 1066, he was crowned King of England, 72 days after defeating Harold at the Battle of Hastings\n",
      "80113                                                                                                                                                                                                                                                                                                England's King Charles II was known by this \"jovial\" nickname\n",
      "84639                                                                                                                                                                                                                                                                            He went from second banana on \"Roseanne\" to top banana of England in \"King Ralph\"\n",
      "86412                                                                                                                                                                                                                                                                         This country's King Olaf V was born in England & was the grandson of King Edward VII\n",
      "89710                                                                                                                                                                                                                                                            This 11th Century King of England also ruled Denmark & Norway during the latter part of his reign\n",
      "111926                                                                                                                                                                                                                                                   It begins \"John, by the grace of God, King of England, Lord of Ireland, Duke of Normandy & Aquitaine....\"\n",
      "118809                                                                                                                                                                                                                                                                                            In French this King of England is called Guillaume le Conquerant\n",
      "123299                                                                                                                                                                                                                                                                     If you want to be crowned King of England, this rock has to be in your coronation chair\n",
      "123671                                                                                                                                                                                                                                                                                                                              King Henry VII of England dies\n",
      "125822                                                                                                                                                                                                                                                                                              Famous nickname of the eldest son of England's King Edward III\n",
      "127484                                                                                                                                                                                                                                                                Ethelred the Unready managed to lose most of England to King Sweyn Forkbeard of this country\n",
      "127758                                                                                                                                                                                                                                                                                  This state was named for the King of England who reigned from 1727 to 1760\n",
      "129106                                                                                                                                                                                                                                                              King Edward I of England, who fought William Wallace, had this nickname relating to his height\n",
      "130208                                                                                                                                                                                                                                                                                    This \"Sun King\" sniffed, \"England is a little garden full of sour weeds\"\n",
      "137818                                                                                                                                                                                                                                                                                        The last King William to rule England had this number after his name\n",
      "143434                                                                                                                                                                                                                                                                This Flemish artist painted a unique triple portrait of England's King Charles I around 1637\n",
      "150880                                                                                                                                                                                                                                                                                       During Stanley Baldwin's term as P.M., this King of England abdicated\n",
      "165110                                                                                                                                                                                                                                                        The 1st commoner to rule England, he became lord protector following the overthrow of King Charles I\n",
      "165197                                                                                                                                                                                                                                                       The \"Angel of Hadley\" is said to have saved a New England town during the war with this Indian \"King\"\n",
      "170007                                                                                                                                                                                                                                                                In the 1697 Treaty of Rijswijk, the French recognized this Dutch-born man as King of England\n",
      "174055                                                                                                                                                                                                                                                                                            This conqueror was crowned King of England on Christmas Day 1066\n",
      "175259                                                                                                                                                                                                                                                                                                          His short reign as King of England fell in in 1936\n",
      "183462                                                                                                                                                                                                                                                            A capital in the West Indies is named for this family name of William of Orange, King of England\n",
      "186239                                                                                                                                                                                                                                           He was King of England from 1189 to 1199 but spent only 6 months there; the rest of the time, he was off fighting\n",
      "187651                                                                                                                                                                                                                                                                     This Bahamian capital took its name from the family name of King William III of England\n",
      "191579                                                                                                                                                                                                                                                                             England's King Harold II lost the all-important Battle of Hastings in this year\n",
      "192265    (<a href=\"http://www.j-archive.com/media/2012-01-17_DJ_25.jpg\" target=\"_blank\">Sarah of the Clue Crew stands in front of the Royal Palace in Oslo, Norway.</a>) King Harald V lives here, in Norway's Royal Palace. He and his second cousin, England's Queen Elizabeth, are both great-grandchildren of this British king, who ruled from 1901 to 1910.\n",
      "192966                                                                                                                                                                                                                                                                                                                          England's King _____ _____ R. Luce\n",
      "194516                                                                                                                                                                                                                                                            The \"Monty Python\" member who played King Arthur, he ended his grail quest in Maidstone, England\n",
      "200369                                                                                                                                                                                                                                             8th C. King Offa built a 170-mile north-south dike that still partly marks the border of England & this country\n",
      "Name: Question, dtype: object\n"
     ]
    }
   ],
   "source": [
    "matched_questions = pd.DataFrame({\n",
    "    'Show Number': [],\n",
    "    'Air Date': [],\n",
    "    'Round': [],\n",
    "    'Category': [],\n",
    "    'Value': [],\n",
    "    'Question': [],\n",
    "    'Answer': []\n",
    "})\n",
    "\n",
    "def check_words_in_question(ls_words, dataframe):\n",
    "\n",
    "    # Lowercases all words in the list of words as well as the questions. Returns true if all of the words in the list appear in the question.\n",
    "    filter = lambda x: all(word in x for word in ls_words)\n",
    "\n",
    "    # Applies the lambda function to the 'Question' column and returns the rows where the function returned True\n",
    "    return dataframe.loc[dataframe['Question'].apply(filter)]\n",
    "\n",
    "are_words_in_question = check_words_in_question(['King', 'England'], jeopardy_data)\n",
    "\n",
    "print(are_words_in_question['Question'])"
   ]
  },
  {
   "cell_type": "markdown",
   "metadata": {},
   "source": [
    "3. Test your original function with a few different sets of words to try to find some ways your function breaks. Edit your function so it is more robust.\n",
    "\n",
    "   For example, think about capitalization. We probably want to find questions that contain the word `\"King\"` or `\"king\"`.\n",
    "   \n",
    "   You may also want to check to make sure you don't find rows that contain substrings of your given words. For example, our function found a question that didn't contain the word `\"king\"`, however it did contain the word `\"viking\"` &mdash; it found the `\"king\"` inside `\"viking\"`. Note that this also comes with some drawbacks &mdash; you would no longer find questions that contained words like `\"England's\"`."
   ]
  },
  {
   "cell_type": "code",
   "execution_count": 11,
   "metadata": {},
   "outputs": [
    {
     "name": "stdout",
     "output_type": "stream",
     "text": [
      "4953                    Both England's King George V & FDR put their stamp of approval on this \"King of Hobbies\"\n",
      "6337      In retaliation for Viking raids, this \"Unready\" king of England attacks Norse areas of the Isle of Man\n",
      "9191                    This king of England beat the odds to trounce the French in the 1415 Battle of Agincourt\n",
      "11710               This Scotsman, the first Stuart king of England, was called \"The Wisest Fool in Christendom\"\n",
      "13454                                       It's the number that followed the last king of England named William\n",
      "                                                           ...                                                  \n",
      "208295        In 1066 this great-great grandson of Rollo made what some call the last Viking invasion of England\n",
      "208742                      Dutch-born king who ruled England jointly with Mary II & is a tasty New Zealand fish\n",
      "213870                In 1781 William Herschel discovered Uranus & initially named it after this king of England\n",
      "216021          His nickname was \"Bertie\", but he used this name & number when he became king of England in 1901\n",
      "216789        This kingdom of England grew from 2 settlements, one founded around 495 by Cerdic & his son Cynric\n",
      "Name: Question, Length: 152, dtype: object\n"
     ]
    }
   ],
   "source": [
    "#This version checks for words like \"king\" but it will also accept words like \"drinking\" or \"viking\"\n",
    "\n",
    "def check_words_in_question_v2(ls_words, dataframe):\n",
    "\n",
    "    filter = lambda x: all(word.lower() in x.lower() for word in ls_words)\n",
    "\n",
    "    return dataframe.loc[dataframe['Question'].apply(filter)]\n",
    "\n",
    "are_words_in_question = check_words_in_question_v2(['King', 'England'], jeopardy_data)\n",
    "\n",
    "print(are_words_in_question['Question'])"
   ]
  },
  {
   "cell_type": "code",
   "execution_count": 12,
   "metadata": {},
   "outputs": [
    {
     "name": "stdout",
     "output_type": "stream",
     "text": [
      "4953                    Both England's King George V & FDR put their stamp of approval on this \"King of Hobbies\"\n",
      "6337      In retaliation for Viking raids, this \"Unready\" king of England attacks Norse areas of the Isle of Man\n",
      "9191                    This king of England beat the odds to trounce the French in the 1415 Battle of Agincourt\n",
      "11710               This Scotsman, the first Stuart king of England, was called \"The Wisest Fool in Christendom\"\n",
      "13454                                       It's the number that followed the last king of England named William\n",
      "                                                           ...                                                  \n",
      "201168                                  Popular Saint-Exupery character waiting around to become king of England\n",
      "204778                                 This southern colony was named for a king of England, the II of that name\n",
      "208742                      Dutch-born king who ruled England jointly with Mary II & is a tasty New Zealand fish\n",
      "213870                In 1781 William Herschel discovered Uranus & initially named it after this king of England\n",
      "216021          His nickname was \"Bertie\", but he used this name & number when he became king of England in 1901\n",
      "Name: Question, Length: 118, dtype: object\n"
     ]
    }
   ],
   "source": [
    "#This version checks for words like \"king\" but it will not accept words like \"drinking\" or \"viking\"\n",
    "\n",
    "def check_words_in_question(ls_words, dataframe):\n",
    "    \n",
    "    filter = lambda x: all(re.search(r'\\b{}\\b'.format(word), x, re.IGNORECASE) for word in ls_words)\n",
    "\n",
    "    return dataframe.loc[dataframe['Question'].apply(filter)]\n",
    "\n",
    "are_words_in_question = check_words_in_question(['King', 'England'], jeopardy_data)\n",
    "\n",
    "print(are_words_in_question['Question'])"
   ]
  },
  {
   "cell_type": "markdown",
   "metadata": {},
   "source": [
    "4. We may want to eventually compute aggregate statistics, like `.mean()` on the `\" Value\"` column. But right now, the values in that column are strings. Convert the`\" Value\"` column to floats. If you'd like to, you can create a new column with float values.\n",
    "\n",
    "   While most of the values in the `\" Value\"` column represent a dollar amount as a string, note that some do not &mdash; these values will need to be handled differently!\n",
    "\n",
    "   Now that you can filter the dataset of question, use your new column that contains the float values of each question to find the \"difficulty\" of certain topics. For example, what is the average value of questions that contain the word `\"King\"`?\n",
    "   \n",
    "   Make sure to use the dataset that contains the float values as the dataset you use in your filtering function."
   ]
  },
  {
   "cell_type": "code",
   "execution_count": 13,
   "metadata": {},
   "outputs": [
    {
     "name": "stdout",
     "output_type": "stream",
     "text": [
      "       Value  float_value\n",
      "50     $2000       2000.0\n",
      "51     $2000       2000.0\n",
      "52    $3,200       3200.0\n",
      "53     $2000       2000.0\n",
      "54     $2000       2000.0\n",
      "55  no value          0.0\n",
      "56      $200        200.0\n",
      "57      $200        200.0\n",
      "58      $200        200.0\n",
      "59      $200        200.0\n",
      "60      $200        200.0\n",
      "803.2981049562683\n"
     ]
    }
   ],
   "source": [
    "def string_to_float(money_str):\n",
    "    if money_str != 'no value':\n",
    "        cleaned_str = money_str.replace('$', '').replace(',', '')\n",
    "    else:\n",
    "        return 0.0\n",
    "    \n",
    "    return float(cleaned_str)\n",
    "\n",
    "jeopardy_data['float_value'] = jeopardy_data['Value'].apply(string_to_float)\n",
    "\n",
    "print(jeopardy_data[['Value', 'float_value']][50:61])\n",
    "\n",
    "are_words_in_question = check_words_in_question(['King'], jeopardy_data)\n",
    "\n",
    "print(are_words_in_question.float_value.mean())"
   ]
  },
  {
   "cell_type": "markdown",
   "metadata": {},
   "source": [
    "5. Write a function that returns the count of unique answers to all of the questions in a dataset. For example, after filtering the entire dataset to only questions containing the word `\"King\"`, we could then find all of the unique answers to those questions. The answer \"Henry VIII\" appeared 55 times and was the most common answer."
   ]
  },
  {
   "cell_type": "code",
   "execution_count": 14,
   "metadata": {},
   "outputs": [
    {
     "name": "stdout",
     "output_type": "stream",
     "text": [
      "Answer\n",
      "Henry VIII                           54\n",
      "Solomon                              31\n",
      "Louis XIV                            31\n",
      "David                                29\n",
      "Sweden                               24\n",
      "                                     ..\n",
      "Oscar                                 1\n",
      "Henderson                             1\n",
      "(Catherine) Howard                    1\n",
      "\"The Circle Of Life\"                  1\n",
      "a pyramid (the pyramids accepted)     1\n",
      "Name: count, Length: 1499, dtype: int64\n"
     ]
    }
   ],
   "source": [
    "are_words_in_question = check_words_in_question(['King'], jeopardy_data)\n",
    "\n",
    "print(are_words_in_question['Answer'].value_counts())"
   ]
  },
  {
   "cell_type": "markdown",
   "metadata": {},
   "source": [
    "6. Explore from here! This is an incredibly rich dataset, and there are so many interesting things to discover. There are a few columns that we haven't even started looking at yet. Here are some ideas on ways to continue working with this data:\n",
    "\n",
    " * Investigate the ways in which questions change over time by filtering by the date. How many questions from the 90s use the word `\"Computer\"` compared to questions from the 2000s?\n",
    " * Is there a connection between the round and the category? Are you more likely to find certain categories, like `\"Literature\"` in Single Jeopardy or Double Jeopardy?\n",
    " * Build a system to quiz yourself. Grab random questions, and use the <a href=\"https://docs.python.org/3/library/functions.html#input\">input</a> function to get a response from the user. Check to see if that response was right or wrong."
   ]
  },
  {
   "cell_type": "code",
   "execution_count": 15,
   "metadata": {},
   "outputs": [
    {
     "name": "stdout",
     "output_type": "stream",
     "text": [
      "Show Number             int64\n",
      "Air Date       datetime64[ns]\n",
      "Round                  object\n",
      "Category               object\n",
      "Value                  object\n",
      "Question               object\n",
      "Answer                 object\n",
      "float_value           float64\n",
      "dtype: object\n",
      "79\n",
      "227\n"
     ]
    }
   ],
   "source": [
    "import datetime\n",
    "\n",
    "#Convert data type from \"object\" to \"datetime\"\n",
    "jeopardy_data['Air Date'] = pd.to_datetime(jeopardy_data['Air Date'])\n",
    "print(jeopardy_data.dtypes)\n",
    "\n",
    "# Returns dataframe from the given age range\n",
    "def select_date_range(dataframe, start_year, end_year):\n",
    "    return dataframe[(dataframe['Air Date'].dt.year >= start_year) & (dataframe['Air Date'].dt.year <= end_year)]\n",
    "\n",
    "jeopardy_data_90s = select_date_range(jeopardy_data, 1990, 1999)\n",
    "jeopardy_data_2000s = select_date_range(jeopardy_data, 2000, 2009)\n",
    "\n",
    "computer_90s = check_words_in_question(['Computer'], jeopardy_data_90s)\n",
    "computer_2000s = check_words_in_question(['Computer'], jeopardy_data_2000s)\n",
    "\n",
    "print(computer_90s.Round.count())\n",
    "print(computer_2000s.Round.count())"
   ]
  },
  {
   "cell_type": "markdown",
   "metadata": {},
   "source": [
    " * Is there a connection between the round and the category? Are you more likely to find certain categories, like `\"Literature\"` in Single Jeopardy or Double Jeopardy?"
   ]
  },
  {
   "cell_type": "code",
   "execution_count": 16,
   "metadata": {},
   "outputs": [
    {
     "name": "stdout",
     "output_type": "stream",
     "text": [
      "105\n",
      "381\n",
      "   Show Number   Air Date      Round                         Category Value  \\\n",
      "0         4680 2004-12-31  Jeopardy!                          HISTORY  $200   \n",
      "1         4680 2004-12-31  Jeopardy!  ESPN's TOP 10 ALL-TIME ATHLETES  $200   \n",
      "2         4680 2004-12-31  Jeopardy!      EVERYBODY TALKS ABOUT IT...  $200   \n",
      "3         4680 2004-12-31  Jeopardy!                 THE COMPANY LINE  $200   \n",
      "4         4680 2004-12-31  Jeopardy!              EPITAPHS & TRIBUTES  $200   \n",
      "\n",
      "                                                                                                      Question  \\\n",
      "0             For the last 8 years of his life, Galileo was under house arrest for espousing this man's theory   \n",
      "1  No. 2: 1912 Olympian; football star at Carlisle Indian School; 6 MLB seasons with the Reds, Giants & Braves   \n",
      "2                     The city of Yuma in this state has a record average of 4,055 hours of sunshine each year   \n",
      "3                         In 1963, live on \"The Art Linkletter Show\", this company served its billionth burger   \n",
      "4     Signer of the Dec. of Indep., framer of the Constitution of Mass., second President of the United States   \n",
      "\n",
      "       Answer  float_value  \n",
      "0  Copernicus        200.0  \n",
      "1  Jim Thorpe        200.0  \n",
      "2     Arizona        200.0  \n",
      "3  McDonald's        200.0  \n",
      "4  John Adams        200.0  \n"
     ]
    }
   ],
   "source": [
    "# print(jeopardy_data.tail())\n",
    "\n",
    "single_jeopardy_literature = jeopardy_data[(jeopardy_data['Round'] == 'Jeopardy!') & (jeopardy_data['Category'] == 'LITERATURE')]\n",
    "double_jeopardy_literature = jeopardy_data[(jeopardy_data['Round'] == 'Double Jeopardy!') & (jeopardy_data['Category'] == 'LITERATURE')]\n",
    "\n",
    "print(single_jeopardy_literature.Round.count())\n",
    "print(double_jeopardy_literature.Round.count())\n",
    "\n",
    "print(jeopardy_data.head())"
   ]
  },
  {
   "cell_type": "markdown",
   "metadata": {},
   "source": [
    " * Build a system to quiz yourself. Grab random questions, and use the <a href=\"https://docs.python.org/3/library/functions.html#input\">input</a> function to get a response from the user. Check to see if that response was right or wrong."
   ]
  },
  {
   "cell_type": "code",
   "execution_count": 19,
   "metadata": {},
   "outputs": [
    {
     "name": "stdout",
     "output_type": "stream",
     "text": [
      "Type yes to start quiz\n",
      "incorrect\n",
      "You Win!\n"
     ]
    }
   ],
   "source": [
    "import random\n",
    "\n",
    "# Will keep asking random quesitons until you get one right\n",
    "def start_quiz(dataframe):\n",
    "    index = random.randint(0, len(jeopardy_data))\n",
    "    Answer = False\n",
    "    while Answer == False:\n",
    "        if input(jeopardy_data['Question'][index]) == jeopardy_data['Answer'][index]:\n",
    "            Answer = True\n",
    "        else:\n",
    "            print('incorrect')\n",
    "            index = random.randint(0, len(jeopardy_data))\n",
    "\n",
    "# Testing code block for questions from index 0-4\n",
    "def start_quiz_test(dataframe):\n",
    "    index = random.randint(0, 4)\n",
    "    Answer = False\n",
    "    while Answer == False:\n",
    "        if input(jeopardy_data['Question'][index]) == jeopardy_data['Answer'][index]:\n",
    "            Answer = True\n",
    "        else:\n",
    "            print('incorrect')\n",
    "            index = random.randint(0, 4)\n",
    "\n",
    "while input('Do you want to take the quiz?(yes/no): ') != 'yes':\n",
    "    print('Type yes to start quiz')\n",
    "\n",
    "start_quiz_test(jeopardy_data)\n",
    "\n",
    "print('You Win!')"
   ]
  },
  {
   "cell_type": "markdown",
   "metadata": {},
   "source": [
    "## Solution"
   ]
  },
  {
   "cell_type": "markdown",
   "metadata": {},
   "source": [
    "7. Compare your program to our <a href=\"https://content.codecademy.com/PRO/independent-practice-projects/jeopardy/jeopardy_solution.zip\">sample solution code</a> - remember, that your program might look different from ours (and probably will) and that's okay!"
   ]
  },
  {
   "cell_type": "markdown",
   "metadata": {},
   "source": [
    "8. Great work! Visit <a href=\"https://discuss.codecademy.com/t/this-is-jeopardy-challenge-project-python-pandas/462365\">our forums</a> to compare your project to our sample solution code. You can also learn how to host your own solution on GitHub so you can share it with other learners! Your solution might look different from ours, and that's okay! There are multiple ways to solve these projects, and you'll learn more by seeing others' code."
   ]
  },
  {
   "cell_type": "code",
   "execution_count": null,
   "metadata": {},
   "outputs": [],
   "source": []
  }
 ],
 "metadata": {
  "kernelspec": {
   "display_name": "Python 3 (ipykernel)",
   "language": "python",
   "name": "python3"
  },
  "language_info": {
   "codemirror_mode": {
    "name": "ipython",
    "version": 3
   },
   "file_extension": ".py",
   "mimetype": "text/x-python",
   "name": "python",
   "nbconvert_exporter": "python",
   "pygments_lexer": "ipython3",
   "version": "3.12.4"
  }
 },
 "nbformat": 4,
 "nbformat_minor": 2
}
